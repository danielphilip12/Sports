import pandas as pd


pd.read_csv('data/Hockey/NHL 2004-2018 Player Data.csv')



