import pandas as pd


df = pd.read_csv('data/Basketball/nba_2022-23_all_stats_with_salary.csv')
df.head()



